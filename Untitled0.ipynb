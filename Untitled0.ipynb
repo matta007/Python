{
  "nbformat": 4,
  "nbformat_minor": 0,
  "metadata": {
    "colab": {
      "provenance": []
    },
    "kernelspec": {
      "name": "python3",
      "display_name": "Python 3"
    },
    "language_info": {
      "name": "python"
    }
  },
  "cells": [
    {
      "cell_type": "code",
      "execution_count": 1,
      "metadata": {
        "id": "wjVEnc9nI8pj",
        "colab": {
          "base_uri": "https://localhost:8080/"
        },
        "outputId": "c44d7189-a001-4b64-f3ed-8dd364fa8a9b"
      },
      "outputs": [
        {
          "output_type": "stream",
          "name": "stdout",
          "text": [
            "hello\n"
          ]
        }
      ],
      "source": [
        "print('hello')"
      ]
    },
    {
      "cell_type": "code",
      "source": [],
      "metadata": {
        "id": "BSYXdTluoJjg"
      },
      "execution_count": null,
      "outputs": []
    }
  ]
}